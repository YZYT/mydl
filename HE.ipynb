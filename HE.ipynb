{
 "cells": [
  {
   "cell_type": "code",
   "execution_count": 1,
   "source": [
    "import numpy as np\n",
    "\n",
    "# First we set the parameters\n",
    "M = 8\n",
    "N = M //2\n",
    "\n",
    "# We set xi, which will be used in our computations\n",
    "xi = np.exp(2 * np.pi * 1j / M)\n",
    "xi"
   ],
   "outputs": [
    {
     "output_type": "execute_result",
     "data": {
      "text/plain": [
       "(0.7071067811865476+0.7071067811865475j)"
      ]
     },
     "metadata": {},
     "execution_count": 1
    }
   ],
   "metadata": {}
  },
  {
   "cell_type": "code",
   "execution_count": 2,
   "source": [
    "from numpy.polynomial import Polynomial\n",
    "\n",
    "class CKKSEncoder:\n",
    "    \"\"\"Basic CKKS encoder to encode complex vectors into polynomials.\"\"\"\n",
    "    \n",
    "    def __init__(self, M: int):\n",
    "        \"\"\"Initialization of the encoder for M a power of 2. \n",
    "        \n",
    "        xi, which is an M-th root of unity will, be used as a basis for our computations.\n",
    "        \"\"\"\n",
    "        self.xi = np.exp(2 * np.pi * 1j / M)\n",
    "        self.M = M\n",
    "        \n",
    "    @staticmethod\n",
    "    def vandermonde(xi: np.complex128, M: int) -> np.array:\n",
    "        \"\"\"Computes the Vandermonde matrix from a m-th root of unity.\"\"\"\n",
    "        \n",
    "        N = M //2\n",
    "        matrix = []\n",
    "        # We will generate each row of the matrix\n",
    "        for i in range(N):\n",
    "            # For each row we select a different root\n",
    "            root = xi ** (2 * i + 1)\n",
    "            row = []\n",
    "\n",
    "            # Then we store its powers\n",
    "            for j in range(N):\n",
    "                row.append(root ** j)\n",
    "            matrix.append(row)\n",
    "        return matrix\n",
    "    \n",
    "    def sigma_inverse(self, b: np.array) -> Polynomial:\n",
    "        \"\"\"Encodes the vector b in a polynomial using an M-th root of unity.\"\"\"\n",
    "\n",
    "        # First we create the Vandermonde matrix\n",
    "        A = CKKSEncoder.vandermonde(self.xi, M)\n",
    "\n",
    "        # Then we solve the system\n",
    "        coeffs = np.linalg.solve(A, b)\n",
    "\n",
    "        # Finally we output the polynomial\n",
    "        p = Polynomial(coeffs)\n",
    "        return p\n",
    "\n",
    "    def sigma(self, p: Polynomial) -> np.array:\n",
    "        \"\"\"Decodes a polynomial by applying it to the M-th roots of unity.\"\"\"\n",
    "\n",
    "        outputs = []\n",
    "        N = self.M //2\n",
    "\n",
    "        # We simply apply the polynomial on the roots\n",
    "        for i in range(N):\n",
    "            root = self.xi ** (2 * i + 1)\n",
    "            output = p(root)\n",
    "            outputs.append(output)\n",
    "        return np.array(outputs)"
   ],
   "outputs": [],
   "metadata": {}
  },
  {
   "cell_type": "code",
   "execution_count": 3,
   "source": [
    "# First we initialize our encoder\n",
    "encoder = CKKSEncoder(M)\n",
    "\n",
    "b = np.array([1, 2, 3, 4])\n",
    "b"
   ],
   "outputs": [
    {
     "output_type": "execute_result",
     "data": {
      "text/plain": [
       "array([1, 2, 3, 4])"
      ]
     },
     "metadata": {},
     "execution_count": 3
    }
   ],
   "metadata": {}
  },
  {
   "cell_type": "code",
   "execution_count": 4,
   "source": [
    "p = encoder.sigma_inverse(b)\n",
    "p"
   ],
   "outputs": [
    {
     "output_type": "execute_result",
     "data": {
      "text/latex": [
       "$x \\mapsto \\text{(2.5+4.440892098500626e-16j)} + (\\text{(-4.996003610813204e-16+0.7071067811865479j)})\\,x + (\\text{(-3.4694469519536176e-16+0.5000000000000003j)})\\,x^{2} + (\\text{(-8.326672684688674e-16+0.7071067811865472j)})\\,x^{3}$"
      ],
      "text/plain": [
       "Polynomial([ 2.50000000e+00+4.44089210e-16j, -4.99600361e-16+7.07106781e-01j,\n",
       "       -3.46944695e-16+5.00000000e-01j, -8.32667268e-16+7.07106781e-01j], domain=[-1,  1], window=[-1,  1])"
      ]
     },
     "metadata": {},
     "execution_count": 4
    }
   ],
   "metadata": {}
  },
  {
   "cell_type": "code",
   "execution_count": 5,
   "source": [
    "b_reconstructed = encoder.sigma(p)\n",
    "b_reconstructed"
   ],
   "outputs": [
    {
     "output_type": "execute_result",
     "data": {
      "text/plain": [
       "array([1.-1.11022302e-16j, 2.-4.71844785e-16j, 3.+2.77555756e-17j,\n",
       "       4.+2.22044605e-16j])"
      ]
     },
     "metadata": {},
     "execution_count": 5
    }
   ],
   "metadata": {}
  },
  {
   "cell_type": "code",
   "execution_count": null,
   "source": [],
   "outputs": [],
   "metadata": {}
  },
  {
   "cell_type": "code",
   "execution_count": null,
   "source": [],
   "outputs": [],
   "metadata": {}
  }
 ],
 "metadata": {
  "orig_nbformat": 4,
  "language_info": {
   "name": "python",
   "version": "3.8.10",
   "mimetype": "text/x-python",
   "codemirror_mode": {
    "name": "ipython",
    "version": 3
   },
   "pygments_lexer": "ipython3",
   "nbconvert_exporter": "python",
   "file_extension": ".py"
  },
  "kernelspec": {
   "name": "python3",
   "display_name": "Python 3.8.10 64-bit ('py38': conda)"
  },
  "interpreter": {
   "hash": "b1d710d4a2dd0e836743a9708dcf2dd87750cb6db75a03dbc0a1931aaec4e6cb"
  }
 },
 "nbformat": 4,
 "nbformat_minor": 2
}