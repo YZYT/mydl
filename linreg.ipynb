{
 "cells": [
  {
   "cell_type": "code",
   "execution_count": 1,
   "metadata": {
    "ExecuteTime": {
     "end_time": "2021-10-08T11:48:02.887390Z",
     "start_time": "2021-10-08T11:48:02.007194Z"
    }
   },
   "outputs": [
    {
     "name": "stdout",
     "output_type": "stream",
     "text": [
      "No GPU!\n"
     ]
    }
   ],
   "source": [
    "\n",
    "%matplotlib inline\n",
    "import torch\n",
    "import torch.nn as nn\n",
    "from torch.utils import data\n",
    "import matplotlib.pyplot as plt\n",
    "from mpl_toolkits.mplot3d import Axes3D\n",
    "from mpl_toolkits import mplot3d\n",
    "from matplotlib import animation\n",
    "from matplotlib.gridspec import GridSpec\n",
    "from d2l import torch as d2l\n",
    "import numpy as np\n",
    "from utils.PSGD import Lookahead, PSSGDv1, PSSGDv2, PSSGDv3\n",
    "\n",
    "d2l.init_Seed()\n",
    "device = d2l.get_device()"
   ]
  },
  {
   "cell_type": "code",
   "execution_count": 2,
   "metadata": {
    "ExecuteTime": {
     "end_time": "2021-10-08T11:48:02.892081Z",
     "start_time": "2021-10-08T11:48:02.889001Z"
    }
   },
   "outputs": [],
   "source": [
    "def synthetic_data(w, b, m_examples, scale=1):\n",
    "    X = torch.randn((m_examples, len(w)))\n",
    "    X[:, 1] *= scale\n",
    "    y = torch.mv(X, w)\n",
    "    y += torch.normal(0, 0.5, y.shape)\n",
    "    return X, y\n",
    "\n",
    "def initial(config, w=None, b=0.0, scale=1):\n",
    "    m, n = config[\"m\"], config['n']\n",
    "    return synthetic_data(w, b, m, scale)\n",
    "\n",
    "def formal_sol(X, y):\n",
    "    # X_b = torch.cat([torch.ones((len(X), 1)), X], 1)\n",
    "    X_b = X\n",
    "    formal_sol = torch.linalg.inv(X_b.T @ X_b) @ X_b.T @ y\n",
    "    global_minima = squared_loss(linreg(X, formal_sol), y)\n",
    "    return formal_sol, global_minima"
   ]
  },
  {
   "cell_type": "markdown",
   "metadata": {},
   "source": [
    "# Config the set"
   ]
  },
  {
   "cell_type": "code",
   "execution_count": 3,
   "metadata": {
    "ExecuteTime": {
     "end_time": "2021-10-08T11:48:02.906479Z",
     "start_time": "2021-10-08T11:48:02.902557Z"
    }
   },
   "outputs": [],
   "source": [
    "config = {\n",
    "    \"m\": 200,\n",
    "    \"n\": 2,\n",
    "    \"batch_size\": 200,\n",
    "    \"lr\": 0.15,\n",
    "    \"n_epochs\": 60,\n",
    "    \"optimizer\": \"SGD\",\n",
    "    # \"optimizer\": \"Adam\",\n",
    "    # \"optimizer\": \"Adagrad\",\n",
    "    # \"optimizer\": \"Adadelta\",\n",
    "    \"optim_hparas\": {\n",
    "        'lr': 0.015,         # for SGD and Adam\n",
    "        'momentum': 0.9,\n",
    "        'nesterov':True\n",
    "    }\n",
    "}"
   ]
  },
  {
   "cell_type": "code",
   "execution_count": null,
   "metadata": {
    "ExecuteTime": {
     "end_time": "2021-10-08T11:48:03.102732Z",
     "start_time": "2021-10-08T11:48:02.907853Z"
    }
   },
   "outputs": [],
   "source": [
    "true_w = torch.tensor([1., 1.])\n",
    "X, y = initial(config, true_w, scale=2.5)\n",
    "ax = plt.figure().add_subplot(111, projection='3d')\n",
    "ax.scatter(X[:, 0].numpy(), X[:, 1].numpy(), y.numpy())\n",
    "plt.show()"
   ]
  },
  {
   "cell_type": "markdown",
   "metadata": {},
   "source": [
    "# from scratch"
   ]
  },
  {
   "cell_type": "code",
   "execution_count": null,
   "metadata": {
    "ExecuteTime": {
     "end_time": "2021-10-08T11:48:03.106912Z",
     "start_time": "2021-10-08T11:48:03.103916Z"
    }
   },
   "outputs": [],
   "source": [
    "def data_iter(X, y, batch_size=10):\n",
    "    m = len(X)\n",
    "    indices = torch.randperm(m)\n",
    "    for i in range(0, m, batch_size):\n",
    "        batch_indices = indices[i:min(i + batch_size, m)]\n",
    "        yield X[batch_indices], y[batch_indices]\n",
    "\n",
    "def linreg(X, w):\n",
    "    return X @ w\n",
    "\n",
    "def squared_loss(y_hat, y):\n",
    "    return ((y_hat - y) ** 2).mean(dim=0)"
   ]
  },
  {
   "cell_type": "markdown",
   "metadata": {},
   "source": []
  },
  {
   "cell_type": "code",
   "execution_count": null,
   "metadata": {
    "ExecuteTime": {
     "end_time": "2021-10-08T11:48:03.121132Z",
     "start_time": "2021-10-08T11:48:03.116156Z"
    }
   },
   "outputs": [],
   "source": [
    "(w1_minima, w2_minima), minima = formal_sol(X, y)\n",
    "(w1_minima, w2_minima), minima"
   ]
  },
  {
   "cell_type": "markdown",
   "metadata": {},
   "source": [
    "# Consice"
   ]
  },
  {
   "cell_type": "code",
   "execution_count": null,
   "metadata": {
    "ExecuteTime": {
     "end_time": "2021-10-08T11:48:03.124697Z",
     "start_time": "2021-10-08T11:48:03.122236Z"
    }
   },
   "outputs": [],
   "source": [
    "def prep_dataloader(X, y, mode, batch_size):\n",
    "    dataset = data.TensorDataset(X, y)\n",
    "    return data.DataLoader(dataset, batch_size, shuffle=(mode == 'train'))"
   ]
  },
  {
   "cell_type": "code",
   "execution_count": null,
   "metadata": {
    "ExecuteTime": {
     "end_time": "2021-10-08T11:48:03.128467Z",
     "start_time": "2021-10-08T11:48:03.126044Z"
    }
   },
   "outputs": [],
   "source": [
    "tr_set = prep_dataloader(X, y, 'train', config['batch_size'])"
   ]
  },
  {
   "cell_type": "code",
   "execution_count": null,
   "metadata": {
    "ExecuteTime": {
     "end_time": "2021-10-08T11:48:03.132822Z",
     "start_time": "2021-10-08T11:48:03.129640Z"
    }
   },
   "outputs": [],
   "source": [
    "class Linreg(nn.Module):\n",
    "    def __init__(self, n_features):\n",
    "        super().__init__()\n",
    "        \n",
    "        self.net = nn.Sequential(nn.Linear(n_features, 1))\n",
    "        \n",
    "        # self.net[0].weight.data.normal_(0, 0.01)\n",
    "        self.net[0].weight.data.fill_(-1.5)\n",
    "\n",
    "        # self.net[0].bias.data.fill_(torch.rand(1,).item())\n",
    "        self.net[0].bias.data.fill_(0)\n",
    "\n",
    "\n",
    "    def forward(self, X):\n",
    "        return self.net(X).squeeze(1)\n"
   ]
  },
  {
   "cell_type": "code",
   "execution_count": null,
   "metadata": {
    "ExecuteTime": {
     "end_time": "2021-10-08T11:50:21.771712Z",
     "start_time": "2021-10-08T11:50:21.766450Z"
    }
   },
   "outputs": [],
   "source": [
    "def train(model, tr_set, te_set, loss, optimizer, scheduler=None, device='cpu', n_epochs=10, early_stop=5):\n",
    "\n",
    "    epoch = 0\n",
    "\n",
    "    loss_record = {\"train\": [], \"dev\": []}\n",
    "    trace = [model.net[0].weight.data.cpu().numpy().copy()[0]]\n",
    "\n",
    "    animator = d2l.Animator(xlabel='epoch', xlim=[1, n_epochs], ylim=[0.2, 1.5], \n",
    "                            legend=['train loss', 'test loss'])\n",
    "\n",
    "    while epoch < n_epochs:\n",
    "        model.train()\n",
    "        for X, y in tr_set:\n",
    "            optimizer.zero_grad()\n",
    "            X, y = X.to(device), y.to(device)\n",
    "            l = loss(model(X), y)\n",
    "            l.backward()\n",
    "            optimizer.step()\n",
    "            loss_record['train'].append(l.detach().cpu().item())\n",
    "            trace.append(model.net[0].weight.data.cpu().numpy().copy()[0])\n",
    "\n",
    "        epoch += 1\n",
    "        \n",
    "        train_l = dev(model, te_set, loss, device)\n",
    "        animator.add(epoch, (train_l, ))\n",
    "        # print(f\"epoch: {epoch:3d}, loss: {train_l: .4f}\")\n",
    "    \n",
    "    return trace"
   ]
  },
  {
   "cell_type": "code",
   "execution_count": null,
   "metadata": {
    "ExecuteTime": {
     "end_time": "2021-10-08T11:48:03.143770Z",
     "start_time": "2021-10-08T11:48:03.140664Z"
    }
   },
   "outputs": [],
   "source": [
    "def dev(model, dv_set, loss, device='cpu'):\n",
    "    model.eval()\n",
    "    total_loss = 0\n",
    "\n",
    "    for X, y in dv_set:\n",
    "        X, y = X.to(device), y.to(device)\n",
    "        with torch.no_grad():\n",
    "            total_loss += loss(model(X), y).cpu().item() * len(y)\n",
    "    total_loss /= len(dv_set.dataset)\n",
    "    \n",
    "    return total_loss"
   ]
  },
  {
   "cell_type": "code",
   "execution_count": null,
   "metadata": {},
   "outputs": [],
   "source": [
    "def visualization(trace, loss):\n",
    "    fig = plt.figure(figsize=(12, 6))\n",
    "\n",
    "    gs = GridSpec(2, 2, width_ratios=[1, 1])\n",
    "\n",
    "    ax1 = fig.add_subplot(gs[:, 1], projection='3d')\n",
    "    ax2 = fig.add_subplot(gs[:, 0])\n",
    "    # ax3 = fig.add_subplot(gs[1, 0])\n",
    "\n",
    "    def loss_wrt_wgts(w1, w2):\n",
    "        w = torch.Tensor([w1, w2])\n",
    "        y_hat = X @ w\n",
    "        return loss(y_hat, y)\n",
    "    \n",
    "    loss_wgts = np.vectorize(loss_wrt_wgts)\n",
    "    x1, x2 = torch.meshgrid(torch.linspace(true_w[0].item() - 2.6, true_w[0].item() + 2.6, 30),\n",
    "                        torch.linspace(true_w[1].item() - 2.6, true_w[1].item() + 2.6, 30))\n",
    "    z = loss_wgts(x1, x2)\n",
    "\n",
    "    # x1, x2 = torch.meshgrid(torch.linspace(true_w[0].item() - 2.6, true_w[0].item() + 2.6, 30),\n",
    "    #                     torch.linspace(true_w[1].item() - 2.6, true_w[1].item() + 2.6, 30))\n",
    "\n",
    "    # x = torch.cat([x1.reshape(-1, 1), x2.reshape(-1, 1)], dim=1)\n",
    "    # z = squared_loss(linreg(X, x.T), y.reshape(-1, 1)).reshape(30, -1)\n",
    "\n",
    "    ax1.plot_surface(x1, x2, z, cmap='viridis', alpha=0.7)\n",
    "    ax1.scatter(w1_minima.item(), w2_minima.item(), minima, c='red', s=100, marker='x')\n",
    "    ax1.plot3D(*zip(*trace), [squared_loss(linreg(X, w), y) for w in trace], c='r', marker='o')\n",
    "\n",
    "    ax1.set_title('Loss Surface', fontsize=16)\n",
    "    ax1.set_xlabel('w1') \n",
    "    ax1.set_ylabel('w2')\n",
    "    ax1.set_zlabel('Loss')\n",
    "    ax1.view_init(40, 10)\n",
    "\n",
    "\n",
    "    ax2.contour(x1, x2, z, 20, colors='#1f77b4')\n",
    "    ax2.plot(*zip(*trace), '-o', color='#ff7f0e')\n",
    "    ax2.scatter(w1_minima.item(), w2_minima.item(), marker='x', s=100, color='r', label=\"global minima\")\n",
    "    # ax2.axes.get_xaxis().set_visible(False)\n",
    "    # ax2.axes.get_yaxis().set_visible(False)\n",
    "    ax2.set_title('Loss Contour', fontsize=16)\n",
    "    ax2.set_xlabel('w1') \n",
    "    ax2.set_ylabel('w2')\n",
    "    ax2.legend()\n",
    "    ax2.axis('equal')\n",
    "\n",
    "    plt.show()"
   ]
  },
  {
   "cell_type": "code",
   "execution_count": null,
   "metadata": {
    "ExecuteTime": {
     "end_time": "2021-10-08T11:51:23.154068Z",
     "start_time": "2021-10-08T11:51:23.150333Z"
    }
   },
   "outputs": [],
   "source": [
    "model = Linreg(config[\"n\"]).to(device)\n",
    "loss = nn.MSELoss(reduction='mean')\n",
    "optimizer = getattr(torch.optim, config['optimizer'])(\n",
    "    [model.net[0].weight], **config['optim_hparas'])\n"
   ]
  },
  {
   "cell_type": "code",
   "execution_count": null,
   "metadata": {
    "ExecuteTime": {
     "end_time": "2021-10-08T11:48:10.177138Z",
     "start_time": "2021-10-08T11:48:03.149474Z"
    }
   },
   "outputs": [],
   "source": [
    "trace = train(model, tr_set, tr_set, loss, optimizer, device=device, n_epochs=config['n_epochs'])\n"
   ]
  },
  {
   "cell_type": "code",
   "execution_count": null,
   "metadata": {
    "ExecuteTime": {
     "end_time": "2021-10-08T11:48:10.180402Z",
     "start_time": "2021-10-08T11:48:10.178376Z"
    }
   },
   "outputs": [],
   "source": [
    "# with torch.no_grad():\n",
    "#     plt.scatter(X[:, 0].numpy(), y.numpy(), 10)\n",
    "#     x = torch.linspace(-3, 3, 20).reshape(-1, 1)\n",
    "#     plt.plot(x.numpy(), model(x).numpy(), '-r')"
   ]
  },
  {
   "cell_type": "code",
   "execution_count": null,
   "metadata": {
    "ExecuteTime": {
     "end_time": "2021-10-08T11:48:10.187206Z",
     "start_time": "2021-10-08T11:48:10.182160Z"
    }
   },
   "outputs": [],
   "source": [
    "model.net[0].weight.data, model.net[0].bias.data"
   ]
  },
  {
   "cell_type": "code",
   "execution_count": null,
   "metadata": {
    "ExecuteTime": {
     "end_time": "2021-10-08T11:48:10.673999Z",
     "start_time": "2021-10-08T11:48:10.197423Z"
    }
   },
   "outputs": [],
   "source": [
    "visualization(trace, loss)"
   ]
  },
  {
   "cell_type": "markdown",
   "metadata": {},
   "source": [
    "# V1: average"
   ]
  },
  {
   "cell_type": "code",
   "execution_count": null,
   "metadata": {
    "ExecuteTime": {
     "end_time": "2021-10-08T11:51:41.316323Z",
     "start_time": "2021-10-08T11:51:41.148681Z"
    }
   },
   "outputs": [],
   "source": [
    "model = Linreg(config[\"n\"]).to(device)\n",
    "loss = nn.MSELoss(reduction='mean')\n",
    "optimizer = getattr(torch.optim, config['optimizer'])(\n",
    "    [model.net[0].weight], **config['optim_hparas'])\n",
    "ggg = PSSGDv1(optimizer)\n",
    "trace = train(model, tr_set, tr_set, loss, ggg, device=device, n_epochs=config['n_epochs'])"
   ]
  },
  {
   "cell_type": "code",
   "execution_count": null,
   "metadata": {},
   "outputs": [],
   "source": [
    "model.net[0].weight.data"
   ]
  },
  {
   "cell_type": "code",
   "execution_count": null,
   "metadata": {
    "ExecuteTime": {
     "end_time": "2021-10-08T11:48:17.704412Z",
     "start_time": "2021-10-08T11:48:17.701845Z"
    }
   },
   "outputs": [],
   "source": [
    "visualization(trace, loss)"
   ]
  },
  {
   "cell_type": "markdown",
   "metadata": {},
   "source": [
    "# Lookahead"
   ]
  },
  {
   "cell_type": "code",
   "execution_count": null,
   "metadata": {
    "ExecuteTime": {
     "end_time": "2021-10-08T11:48:17.707839Z",
     "start_time": "2021-10-08T11:48:17.705794Z"
    }
   },
   "outputs": [],
   "source": [
    "model = Linreg(config[\"n\"]).to(device)\n",
    "loss = nn.MSELoss(reduction='mean')\n",
    "optimizer = getattr(torch.optim, config['optimizer'])(\n",
    "    [model.net[0].weight], **config['optim_hparas'])\n",
    "optimizer = Lookahead(optimizer)\n",
    "trace = train(model, tr_set, tr_set, loss, optimizer, device=device, n_epochs=config['n_epochs'])"
   ]
  },
  {
   "cell_type": "code",
   "execution_count": null,
   "metadata": {},
   "outputs": [],
   "source": [
    "model.net[0].weight.data"
   ]
  },
  {
   "cell_type": "code",
   "execution_count": null,
   "metadata": {
    "ExecuteTime": {
     "end_time": "2021-10-08T11:48:17.710840Z",
     "start_time": "2021-10-08T11:48:17.709061Z"
    },
    "scrolled": false
   },
   "outputs": [],
   "source": [
    "visualization(trace, loss)"
   ]
  },
  {
   "cell_type": "markdown",
   "metadata": {},
   "source": [
    "# V2: first and last avg"
   ]
  },
  {
   "cell_type": "code",
   "execution_count": null,
   "metadata": {
    "scrolled": true
   },
   "outputs": [],
   "source": [
    "model = Linreg(config[\"n\"]).to(device)\n",
    "loss = nn.MSELoss(reduction='mean')\n",
    "optimizer = getattr(torch.optim, config['optimizer'])(\n",
    "    [model.net[0].weight], **config['optim_hparas'])\n",
    "optimizer = PSSGDv2(optimizer)\n",
    "trace = train(model, tr_set, tr_set, loss, optimizer, device=device, n_epochs=config['n_epochs'])"
   ]
  },
  {
   "cell_type": "code",
   "execution_count": null,
   "metadata": {},
   "outputs": [],
   "source": [
    "model.net[0].weight.data"
   ]
  },
  {
   "cell_type": "code",
   "execution_count": null,
   "metadata": {},
   "outputs": [],
   "source": [
    "visualization(trace, loss)"
   ]
  },
  {
   "cell_type": "markdown",
   "metadata": {},
   "source": [
    "# V3: randomly choose from past points "
   ]
  },
  {
   "cell_type": "code",
   "execution_count": null,
   "metadata": {
    "scrolled": true
   },
   "outputs": [],
   "source": [
    "model = Linreg(config[\"n\"]).to(device)\n",
    "loss = nn.MSELoss(reduction='mean')\n",
    "optimizer = getattr(torch.optim, config['optimizer'])(\n",
    "    [model.net[0].weight], **config['optim_hparas'])\n",
    "optimizer = PSSGDv3(optimizer)\n",
    "trace = train(model, tr_set, tr_set, loss, optimizer, device=device, n_epochs=config['n_epochs'])"
   ]
  },
  {
   "cell_type": "code",
   "execution_count": null,
   "metadata": {},
   "outputs": [],
   "source": [
    "model.net[0].weight.data"
   ]
  },
  {
   "cell_type": "code",
   "execution_count": null,
   "metadata": {},
   "outputs": [],
   "source": [
    "visualization(trace, loss)"
   ]
  },
  {
   "cell_type": "code",
   "execution_count": null,
   "metadata": {},
   "outputs": [],
   "source": []
  }
 ],
 "metadata": {
  "interpreter": {
   "hash": "b1d710d4a2dd0e836743a9708dcf2dd87750cb6db75a03dbc0a1931aaec4e6cb"
  },
  "kernelspec": {
   "display_name": "Python 3",
   "language": "python",
   "name": "python3"
  },
  "language_info": {
   "codemirror_mode": {
    "name": "ipython",
    "version": 3
   },
   "file_extension": ".py",
   "mimetype": "text/x-python",
   "name": "python",
   "nbconvert_exporter": "python",
   "pygments_lexer": "ipython3",
   "version": "3.8.5"
  }
 },
 "nbformat": 4,
 "nbformat_minor": 2
}
